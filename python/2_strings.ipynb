{
 "cells": [
  {
   "cell_type": "markdown",
   "id": "21727deb",
   "metadata": {
    "toc": true
   },
   "source": [
    "<h1>Table of Contents<span class=\"tocSkip\"></span></h1>\n",
    "<div class=\"toc\"><ul class=\"toc-item\"><li><span><a href=\"#sWAP-cASE\" data-toc-modified-id=\"sWAP-cASE-1\"><span class=\"toc-item-num\">1&nbsp;&nbsp;</span>sWAP cASE</a></span></li><li><span><a href=\"#String-Split-and-Join\" data-toc-modified-id=\"String-Split-and-Join-2\"><span class=\"toc-item-num\">2&nbsp;&nbsp;</span>String Split and Join</a></span></li></ul></div>"
   ]
  },
  {
   "cell_type": "markdown",
   "id": "8fa21905",
   "metadata": {},
   "source": [
    "# sWAP cASE\n",
    "You are given a string and your task is to swap cases. In other words, convert all lowercase letters to uppercase letters and vice versa."
   ]
  },
  {
   "cell_type": "code",
   "execution_count": 2,
   "id": "de9e6d80",
   "metadata": {},
   "outputs": [
    {
     "name": "stdout",
     "output_type": "stream",
     "text": [
      "aaaaBBBBBBccccc\n"
     ]
    }
   ],
   "source": [
    "def swap_case(s):\n",
    "    return s.swapcase()\n",
    "\n",
    "if __name__ == '__main__':\n",
    "    s = input()\n",
    "    result = swap_case(s)\n",
    "    print(result)"
   ]
  },
  {
   "cell_type": "markdown",
   "id": "35f43397",
   "metadata": {},
   "source": [
    "# String Split and Join\n",
    "\n",
    "You are given a string. Split the string on a `\" \"` (space) delimiter and join using a `-` hyphen."
   ]
  },
  {
   "cell_type": "code",
   "execution_count": 3,
   "id": "c96a092f",
   "metadata": {},
   "outputs": [
    {
     "name": "stdout",
     "output_type": "stream",
     "text": [
      "this-is-a-string\n"
     ]
    }
   ],
   "source": [
    "def split_and_join(line):\n",
    "    line = line.split(\" \")\n",
    "    line = \"-\".join(line)\n",
    "    return line\n",
    "\n",
    "if __name__ == '__main__':\n",
    "    line = input()\n",
    "    result = split_and_join(line)\n",
    "    print(result)"
   ]
  },
  {
   "cell_type": "markdown",
   "id": "d379e77f",
   "metadata": {},
   "source": [
    "# What's Your Name?\n",
    "\n",
    "You are given the firstname and lastname of a person on two different lines. Your task is to read them and print the following:\n",
    "\n",
    "\"Hello `firstname` `lastname`! You just delved into python.\""
   ]
  },
  {
   "cell_type": "code",
   "execution_count": 4,
   "id": "7443bd66",
   "metadata": {},
   "outputs": [
    {
     "name": "stdout",
     "output_type": "stream",
     "text": [
      "Hello James Bond! You just delved into python.\n"
     ]
    }
   ],
   "source": [
    "#\n",
    "# Complete the 'print_full_name' function below.\n",
    "#\n",
    "# The function is expected to return a STRING.\n",
    "# The function accepts following parameters:\n",
    "#  1. STRING first\n",
    "#  2. STRING last\n",
    "#\n",
    "\n",
    "def print_full_name(first, last):\n",
    "    # Write your code here\n",
    "    print(f\"Hello {first} {last}! You just delved into python.\")\n",
    "    \n",
    "\n",
    "if __name__ == '__main__':\n",
    "    first_name = input()\n",
    "    last_name = input()\n",
    "    print_full_name(first_name, last_name)"
   ]
  },
  {
   "cell_type": "markdown",
   "id": "9c30d318",
   "metadata": {},
   "source": [
    "# Mutations\n",
    "Read a given string, change the character at a given index and then print the modified string.\n",
    "\n",
    "Function Description\n",
    "\n",
    "Complete the mutate_string function in the editor below.\n",
    "\n",
    "mutate_string has the following parameters:\n",
    "\n",
    "- string string: the string to change\n",
    "- int position: the index to insert the character at\n",
    "- string character: the character to insert"
   ]
  },
  {
   "cell_type": "code",
   "execution_count": 5,
   "id": "6bb29b78",
   "metadata": {},
   "outputs": [
    {
     "name": "stdout",
     "output_type": "stream",
     "text": [
      "xxxOxxxx\n"
     ]
    }
   ],
   "source": [
    "def mutate_string(string, position, character):\n",
    "    string_list = list(string)\n",
    "    string_list[position] = character\n",
    "    string = ''.join(string_list)\n",
    "    return string\n",
    "\n",
    "if __name__ == '__main__':\n",
    "    s = input()\n",
    "    i, c = input().split()\n",
    "    s_new = mutate_string(s, int(i), c)\n",
    "    print(s_new)"
   ]
  },
  {
   "cell_type": "code",
   "execution_count": 6,
   "id": "a4c7df23",
   "metadata": {},
   "outputs": [
    {
     "name": "stdout",
     "output_type": "stream",
     "text": [
      "xxxxOxxx\n"
     ]
    }
   ],
   "source": [
    "def mutate_string(string, position, character):\n",
    "    string = string[:position] + character + string[position + 1:]\n",
    "    return string\n",
    "\n",
    "if __name__ == '__main__':\n",
    "    s = input()\n",
    "    i, c = input().split()\n",
    "    s_new = mutate_string(s, int(i), c)\n",
    "    print(s_new)"
   ]
  },
  {
   "cell_type": "markdown",
   "id": "6455fffc",
   "metadata": {},
   "source": [
    "# Find a string\n",
    "In this challenge, the user enters a string and a substring. You have to print the number of times that the substring occurs in the given string. String traversal will take place from left to right, not from right to left.\n",
    "\n",
    "NOTE: String letters are case-sensitive."
   ]
  },
  {
   "cell_type": "code",
   "execution_count": 7,
   "id": "f36fd3bc",
   "metadata": {},
   "outputs": [
    {
     "name": "stdout",
     "output_type": "stream",
     "text": [
      "2\n"
     ]
    }
   ],
   "source": [
    "def count_substring(string, sub_string):\n",
    "    count = 0\n",
    "    for n in range(len(string) - len(sub_string) + 1):\n",
    "        if string[n: n + len(sub_string)] == sub_string:\n",
    "            count += 1\n",
    "    return count\n",
    "\n",
    "if __name__ == '__main__':\n",
    "    string = input().strip()\n",
    "    sub_string = input().strip()\n",
    "    \n",
    "    count = count_substring(string, sub_string)\n",
    "    print(count)"
   ]
  },
  {
   "cell_type": "markdown",
   "id": "37e69e3a",
   "metadata": {},
   "source": [
    "# String Validators\n",
    "Python has built-in string validation methods for basic data. It can check if a string is composed of alphabetical characters, alphanumeric characters, digits, etc.\n",
    "\n",
    "`str.isalnum()`\n",
    "\n",
    "This method checks if all the characters of a string are alphanumeric (a-z, A-Z and 0-9).\n",
    "\n",
    "`str.isalpha()`\n",
    "\n",
    "This method checks if all the characters of a string are alphabetical (a-z and A-Z).\n",
    "\n",
    "`str.isdigit()`\n",
    "\n",
    "This method checks if all the characters of a string are digits (0-9).\n",
    "\n",
    "`str.islower()`\n",
    "\n",
    "This method checks if all the characters of a string are lowercase characters (a-z).\n",
    "\n",
    "`str.isupper()`\n",
    "\n",
    "This method checks if all the characters of a string are uppercase characters (A-Z).\n",
    "\n",
    "You are given a string `S`. Your task is to find out if the string `S` contains: alphanumeric characters, alphabetical characters, digits, lowercase and uppercase characters."
   ]
  },
  {
   "cell_type": "code",
   "execution_count": 8,
   "id": "7e17b16e",
   "metadata": {},
   "outputs": [
    {
     "name": "stdout",
     "output_type": "stream",
     "text": [
      "True\n",
      "False\n",
      "True\n",
      "False\n",
      "False\n"
     ]
    }
   ],
   "source": [
    "s = '123'\n",
    "print( any( [ i.isalnum() for i in s ] ) )\n",
    "print( any( [ i.isalpha() for i in s ] ) )\n",
    "print( any( [ i.isdigit() for i in s ] ) )\n",
    "print( any( [ i.islower() for i in s ] ) )\n",
    "print( any( [ i.isupper() for i in s ] ) )"
   ]
  },
  {
   "cell_type": "code",
   "execution_count": 10,
   "id": "d1e9be40",
   "metadata": {},
   "outputs": [
    {
     "name": "stdout",
     "output_type": "stream",
     "text": [
      "True\n",
      "True\n",
      "True\n",
      "True\n",
      "True\n"
     ]
    }
   ],
   "source": [
    "s = 'qA2'\n",
    "\n",
    "method_list = [\n",
    "    [i.isalnum() for i in s],\n",
    "    [i.isalpha() for i in s],\n",
    "    [i.isdigit() for i in s],\n",
    "    [i.islower() for i in s],\n",
    "    [i.isupper() for i in s]\n",
    "]\n",
    "\n",
    "for method in method_list:\n",
    "    print(any(method))"
   ]
  },
  {
   "cell_type": "markdown",
   "id": "b6937cc3",
   "metadata": {},
   "source": [
    "# Text Alignment\n",
    "In Python, a string of text can be aligned left, right and center.\n",
    "\n",
    "`.ljust(width)`\n",
    "\n",
    "This method returns a left aligned string of length width.\n",
    "```\n",
    ">>> width = 20\n",
    ">>> print 'HackerRank'.ljust(width,'-')\n",
    "HackerRank----------  \n",
    "```\n",
    "\n",
    "`.center(width)`\n",
    "\n",
    "This method returns a centered string of length width.\n",
    "```\n",
    ">>> width = 20\n",
    ">>> print 'HackerRank'.center(width,'-')\n",
    "-----HackerRank-----\n",
    "```\n",
    "\n",
    "`.rjust(width)`\n",
    "\n",
    "This method returns a right aligned string of length width.\n",
    "```\n",
    ">>> width = 20\n",
    ">>> print 'HackerRank'.rjust(width,'-')\n",
    "----------HackerRank\n",
    "```\n",
    "\n",
    "\n",
    "You are given a partial code that is used for generating the HackerRank Logo of variable thickness.\n",
    "Your task is to replace the blank `(______)` with rjust, ljust or center."
   ]
  },
  {
   "cell_type": "code",
   "execution_count": null,
   "id": "f5be9195",
   "metadata": {},
   "outputs": [],
   "source": [
    "thickness = int(input())\n",
    "c = 'H'\n",
    "\n",
    "#Top Cone\n",
    "for i in range(thickness):\n",
    "    print((c*i).rjust(thickness-1, ' ') + c + (c*i).ljust(thickness-1, ' '))\n",
    "\n",
    "#Top Pillars\n",
    "for i in range(thickness+1):\n",
    "    print((c*thickness).center(thickness*2, ' ') + (c*thickness).center(thickness*6, ' '))\n",
    "\n",
    "#Middle Belt\n",
    "for i in range((thickness+1)//2):\n",
    "    print((c*thickness*5).center(thickness*6, ' '))    \n",
    "\n",
    "#Bottom Pillars\n",
    "for i in range(thickness+1):\n",
    "    print((c*thickness).center(thickness*2, ' ')+(c*thickness).center(thickness*6, ' '))    \n",
    "\n",
    "#Bottom Cone\n",
    "for i in range(thickness):\n",
    "    print(((c*(thickness-i-1)).rjust(thickness, ' ') + c + (c*(thickness-i-1)).ljust(thickness, ' ')).rjust(thickness*6,' '))"
   ]
  },
  {
   "cell_type": "code",
   "execution_count": 11,
   "id": "a3b06422",
   "metadata": {},
   "outputs": [
    {
     "name": "stdout",
     "output_type": "stream",
     "text": [
      "  H  \n",
      " HHH \n",
      "HHHHH\n",
      " HHH         HHH \n",
      " HHH         HHH \n",
      " HHH         HHH \n",
      " HHH         HHH \n",
      " HHHHHHHHHHHHHHH \n",
      " HHHHHHHHHHHHHHH \n",
      " HHH         HHH \n",
      " HHH         HHH \n",
      " HHH         HHH \n",
      " HHH         HHH \n",
      "            HHHHH\n",
      "             HHH \n",
      "              H  \n"
     ]
    }
   ],
   "source": [
    "t = int(input())\n",
    "\n",
    "top_cone_w = t * 2 - 1\n",
    "\n",
    "total_width = t * 6 - 1\n",
    "\n",
    "c = 'H'\n",
    "filler = ' '\n",
    "\n",
    "for i in range(1, top_cone_w+1, 2):\n",
    "    print((c * (i)).center(top_cone_w, filler))\n",
    "    \n",
    "for i in range(t + 1):\n",
    "    print( ((c * t) + ( filler * (t * 3) ) + (c * t)).center(total_width, filler) )\n",
    "    \n",
    "for i in range((t + 1)//2):\n",
    "    print( (c * t * 5).center(total_width, filler) )\n",
    "    \n",
    "for i in range(t + 1):\n",
    "    print( ((c * t) + ( filler * (t * 3) ) + (c * t)).center(total_width, filler) )\n",
    "\n",
    "for i in range(top_cone_w, 0, -2):\n",
    "    print( (c * (i)).center(top_cone_w, filler).rjust(total_width, filler) )\n"
   ]
  },
  {
   "cell_type": "markdown",
   "id": "2deb092e",
   "metadata": {},
   "source": [
    "# Text Wrap\n",
    "\n",
    "You are given a string `S` and width `w`.\n",
    "Your task is to wrap the string into a paragraph of width `w`.\n",
    "\n",
    "**Function Description**\n",
    "\n",
    "Complete the wrap function in the editor below.\n",
    "\n",
    "wrap has the following parameters:\n",
    "- string string: a long string\n",
    "- int max_width: the width to wrap to\n",
    "\n",
    "**Returns:**\n",
    "- string: a single string with newline characters ('\\n') where the breaks should be"
   ]
  },
  {
   "cell_type": "code",
   "execution_count": 12,
   "id": "cf3cf2f9",
   "metadata": {},
   "outputs": [
    {
     "name": "stdout",
     "output_type": "stream",
     "text": [
      "ABCD\n",
      "EFGH\n",
      "IJKL\n",
      "IMNO\n",
      "QRST\n",
      "UVWX\n",
      "YZ\n",
      "\n"
     ]
    }
   ],
   "source": [
    "def wrap(string, max_width):\n",
    "    my_wrap = ''\n",
    "    for i in range (0, len(string), max_width):\n",
    "        j = max_width\n",
    "        my_wrap += string[i: j+i] + '\\n'\n",
    "    return my_wrap\n",
    "\n",
    "S = 'ABCDEFGHIJKLIMNOQRSTUVWXYZ'\n",
    "w = 4\n",
    "\n",
    "print(wrap(S, 4))"
   ]
  },
  {
   "cell_type": "markdown",
   "id": "e4f7749b",
   "metadata": {},
   "source": [
    "# Designer Door Mat\n",
    "\n",
    "Mr. Vincent works in a door mat manufacturing company. One day, he designed a new door mat with the following specifications:\n",
    "\n",
    "- Mat size must be NxM. (N is an odd natural number, and M is 3 times N.)\n",
    "- The design should have 'WELCOME' written in the center.\n",
    "- The design pattern should only use |, . and - characters.\n",
    "\n",
    "Sample Designs\n",
    "```\n",
    "    Size: 7 x 21 \n",
    "    ---------.|.---------\n",
    "    ------.|..|..|.------\n",
    "    ---.|..|..|..|..|.---\n",
    "    -------WELCOME-------\n",
    "    ---.|..|..|..|..|.---\n",
    "    ------.|..|..|.------\n",
    "    ---------.|.---------\n",
    "    \n",
    "    Size: 11 x 33\n",
    "    ---------------.|.---------------\n",
    "    ------------.|..|..|.------------\n",
    "    ---------.|..|..|..|..|.---------\n",
    "    ------.|..|..|..|..|..|..|.------\n",
    "    ---.|..|..|..|..|..|..|..|..|.---\n",
    "    -------------WELCOME-------------\n",
    "    ---.|..|..|..|..|..|..|..|..|.---\n",
    "    ------.|..|..|..|..|..|..|.------\n",
    "    ---------.|..|..|..|..|.---------\n",
    "    ------------.|..|..|.------------\n",
    "    ---------------.|.---------------\n",
    "```\n",
    "**Input Format**\n",
    "\n",
    "A single line containing the space separated values of N and M."
   ]
  },
  {
   "cell_type": "code",
   "execution_count": 13,
   "id": "db6c85ec",
   "metadata": {},
   "outputs": [
    {
     "name": "stdout",
     "output_type": "stream",
     "text": [
      "---.|.---\n",
      "-WELCOME-\n",
      "---.|.---\n"
     ]
    }
   ],
   "source": [
    "N, M = map(int,input().split())\n",
    "\n",
    "for i in range(1, N, 2):\n",
    "    print( ('.|.' * i).center(M, '-') )\n",
    "\n",
    "print('WELCOME'.center(M, '-'))\n",
    "\n",
    "for i in range(N-2, 0, -2):\n",
    "    print( ('.|.' * i).center(M, '-') )"
   ]
  },
  {
   "cell_type": "markdown",
   "id": "b20bc066",
   "metadata": {},
   "source": [
    "# String Formatting\n",
    "\n",
    "Given an integer, n, print the following values for each integer i from 1 to n:\n",
    "\n",
    "1. Decimal\n",
    "2. Octal\n",
    "3. Hexadecimal (capitalized)\n",
    "4. Binary\n",
    "\n",
    "**Function Description**\n",
    "\n",
    "Complete the print_formatted function in the editor below.\n",
    "\n",
    "print_formatted has the following parameters:\n",
    "\n",
    "- int number: the maximum value to print\n",
    "\n",
    "**Prints**\n",
    "\n",
    "The four values must be printed on a single line in the order specified above for each i from 1 to `number`. Each value should be space-padded to match the width of the binary value of `number` and the values should be separated by a single space.\n",
    "\n",
    "**Input Format**\n",
    "\n",
    "A single integer denoting `n`."
   ]
  },
  {
   "cell_type": "code",
   "execution_count": 14,
   "id": "046fae16",
   "metadata": {},
   "outputs": [
    {
     "name": "stdout",
     "output_type": "stream",
     "text": [
      "    1     1     1     1\n",
      "    2     2     2    10\n",
      "    3     3     3    11\n",
      "    4     4     4   100\n",
      "    5     5     5   101\n",
      "    6     6     6   110\n",
      "    7     7     7   111\n",
      "    8    10     8  1000\n",
      "    9    11     9  1001\n",
      "   10    12     A  1010\n",
      "   11    13     B  1011\n",
      "   12    14     C  1100\n",
      "   13    15     D  1101\n",
      "   14    16     E  1110\n",
      "   15    17     F  1111\n",
      "   16    20    10 10000\n"
     ]
    }
   ],
   "source": [
    "def print_formatted(number):\n",
    "    \n",
    "    # width of binary value\n",
    "    w = len(f'{number:b}')\n",
    "    \n",
    "    for i in range(1, number + 1):\n",
    "        print( f'{i:{w}} {i:{w}o} {i:{w}X} {i:{w}b}' )\n",
    "\n",
    "if __name__ == '__main__':\n",
    "    n = int(input())\n",
    "    print_formatted(n)"
   ]
  },
  {
   "cell_type": "markdown",
   "id": "aa668015",
   "metadata": {},
   "source": [
    "# Alphabet Rangoli\n",
    "\n",
    "You are given an integer, N. Your task is to print an alphabet rangoli of size N. (Rangoli is a form of Indian folk art based on creation of patterns.)\n",
    "\n",
    "Different sizes of alphabet rangoli are shown below:\n",
    "```\n",
    "#size 3\n",
    "\n",
    "----c----\n",
    "--c-b-c--\n",
    "c-b-a-b-c\n",
    "--c-b-c--\n",
    "----c----\n",
    "\n",
    "#size 5\n",
    "\n",
    "--------e--------\n",
    "------e-d-e------\n",
    "----e-d-c-d-e----\n",
    "--e-d-c-b-c-d-e--\n",
    "e-d-c-b-a-b-c-d-e\n",
    "--e-d-c-b-c-d-e--\n",
    "----e-d-c-d-e----\n",
    "------e-d-e------\n",
    "--------e--------\n",
    "\n",
    "#size 10\n",
    "\n",
    "------------------j------------------\n",
    "----------------j-i-j----------------\n",
    "--------------j-i-h-i-j--------------\n",
    "------------j-i-h-g-h-i-j------------\n",
    "----------j-i-h-g-f-g-h-i-j----------\n",
    "--------j-i-h-g-f-e-f-g-h-i-j--------\n",
    "------j-i-h-g-f-e-d-e-f-g-h-i-j------\n",
    "----j-i-h-g-f-e-d-c-d-e-f-g-h-i-j----\n",
    "--j-i-h-g-f-e-d-c-b-c-d-e-f-g-h-i-j--\n",
    "j-i-h-g-f-e-d-c-b-a-b-c-d-e-f-g-h-i-j\n",
    "--j-i-h-g-f-e-d-c-b-c-d-e-f-g-h-i-j--\n",
    "----j-i-h-g-f-e-d-c-d-e-f-g-h-i-j----\n",
    "------j-i-h-g-f-e-d-e-f-g-h-i-j------\n",
    "--------j-i-h-g-f-e-f-g-h-i-j--------\n",
    "----------j-i-h-g-f-g-h-i-j----------\n",
    "------------j-i-h-g-h-i-j------------\n",
    "--------------j-i-h-i-j--------------\n",
    "----------------j-i-j----------------\n",
    "------------------j------------------\n",
    "```\n",
    "The center of the rangoli has the first alphabet letter a, and the boundary has the `N`th alphabet letter (in alphabetical order).\n",
    "\n",
    "**Function Description**\n",
    "Complete the rangoli function in the editor below.\n",
    "rangoli has the following parameters:\n",
    "- int size: the size of the rangoli\n",
    "\n",
    "**Returns**\n",
    "- string: a single string made up of each of the lines of the rangoli separated by a newline character (\\n)\n",
    "\n",
    "**Input Format**\n",
    "Only one line of input containing `size`, the size of the rangoli."
   ]
  },
  {
   "cell_type": "code",
   "execution_count": 15,
   "id": "8d1565c7",
   "metadata": {},
   "outputs": [
    {
     "name": "stdout",
     "output_type": "stream",
     "text": [
      "----c----\n",
      "--c-b-c--\n",
      "c-b-a-b-c\n",
      "--c-b-c--\n",
      "----c----\n"
     ]
    }
   ],
   "source": [
    "def print_rangoli(size):\n",
    "    width = size * 4 - 3\n",
    "    \n",
    "    # prints upper half and middle line\n",
    "    # Every i prints a new line\n",
    "    # Note: size = number of lines = number of unique letters\n",
    "    for i in range(size): # size=3, i = 0,1,2\n",
    "        \n",
    "        string = ''\n",
    "        \n",
    "        for j in range(i + 1):\n",
    "            # as j increases, size decreases\n",
    "            # when j=0, letter = last letter\n",
    "            # when j=(size-1), letter = chr(ord('a') + 0) = 'a'\n",
    "            letter = chr(ord('a') + size - j - 1)  \n",
    "            string += letter\n",
    "            \n",
    "        string = '-'.join(string)\n",
    "        \n",
    "        # concatenates string with the reverse of 'string' less the first letter\n",
    "        # center aligns and pads it with '-'\n",
    "        print( ( string + string[::-1][1:] ).center( width, '-' ) )\n",
    "        \n",
    "    # prints lower half\n",
    "    for i in range(size - 1):\n",
    "        \n",
    "        string = ''\n",
    "        \n",
    "        for j in range(size - i - 1):\n",
    "            \n",
    "            letter = chr(ord('a') + size - j - 1)\n",
    "            string += letter\n",
    "        \n",
    "        string = '-'.join(string)\n",
    "        \n",
    "        print( ( string + string[::-1][1:] ).center( width, '-' ) )\n",
    "\n",
    "# size = 4\n",
    "# print_rangoli(size)\n",
    "\n",
    "if __name__ == '__main__':\n",
    "    n = int(input())\n",
    "    print_rangoli(n)"
   ]
  },
  {
   "cell_type": "code",
   "execution_count": 16,
   "id": "31b17beb",
   "metadata": {},
   "outputs": [
    {
     "name": "stdout",
     "output_type": "stream",
     "text": [
      "----c----\n",
      "--c-b-c--\n",
      "c-b-a-b-c\n",
      "--c-b-c--\n",
      "----c----\n"
     ]
    }
   ],
   "source": [
    "n = 3\n",
    "\n",
    "for i in range(n):\n",
    "    s = \"-\".join(chr(ord('a')+n-j-1) for j in range(i+1))\n",
    "    print((s+s[::-1][1:]).center(n*4-3, '-'))\n",
    "\n",
    "for i in range(n-1):\n",
    "    s = \"-\".join(chr(ord('a')+n-j-1) for j in range(n-i-1))\n",
    "    print((s+s[::-1][1:]).center(n*4-3, '-'))"
   ]
  },
  {
   "cell_type": "markdown",
   "id": "af82c998",
   "metadata": {},
   "source": [
    "# Capitalize!\n",
    "\n",
    "You are asked to ensure that the first and last names of people begin with a capital letter in their passports. For example, alison heck should be capitalised correctly as `Alison Heck`.\n",
    "\n",
    "Given a full name, your task is to capitalize the name appropriately.\n",
    "\n",
    "**Input Format**\n",
    "\n",
    "A single line of input containing the full name, `S`."
   ]
  },
  {
   "cell_type": "code",
   "execution_count": 18,
   "id": "8ad31808",
   "metadata": {},
   "outputs": [
    {
     "name": "stdout",
     "output_type": "stream",
     "text": [
      "1 W 2 R 3g\n"
     ]
    }
   ],
   "source": [
    "import math\n",
    "import os\n",
    "import random\n",
    "import re\n",
    "import sys\n",
    "\n",
    "# Complete the solve function below.\n",
    "def solve(s):\n",
    "    s = s.split(\" \")\n",
    "    s_temp = []\n",
    "    for name in s:\n",
    "        s_temp.append(name.capitalize())   \n",
    "    return \" \".join(s_temp)\n",
    "\n",
    "s = '1 w 2 r 3g'\n",
    "result = solve(s)\n",
    "print(result)"
   ]
  },
  {
   "cell_type": "markdown",
   "id": "bd554a87",
   "metadata": {},
   "source": [
    "# The Minion Game\n",
    "Kevin and Stuart want to play the '**The Minion Game**'.\n",
    "\n",
    "**Game Rules**\n",
    "\n",
    "Both players are given the same string, S.\n",
    "Both players have to make substrings using the letters of the string S.\n",
    "Stuart has to make words starting with consonants.\n",
    "Kevin has to make words starting with vowels.\n",
    "The game ends when both players have made all possible substrings.\n",
    "\n",
    "**Scoring**\n",
    "A player gets +1 point for each occurrence of the substring in the string S.\n",
    "\n",
    "**For Example**:\n",
    "String S = BANANA\n",
    "Kevin's vowel beginning word = ANA\n",
    "Here, ANA occurs twice in BANANA. Hence, Kevin will get 2 Points.\n",
    "\n",
    "For better understanding, see the image below:\n",
    "\n",
    "![minion.png](minion.png)\n",
    "\n",
    "Your task is to determine the winner of the game and their score.\n",
    "\n",
    "**Function Description**\n",
    "\n",
    "Complete the minion_game in the editor below.\n",
    "\n",
    "minion_game has the following parameters:\n",
    "\n",
    "- string string: the string to analyze\n",
    "\n",
    "**Prints**\n",
    "\n",
    "- string: the winner's name and score, separated by a space on one line, or `Draw` if there is no winner\n",
    "\n",
    "**Input Format**\n",
    "\n",
    "A single line of input containing the string S."
   ]
  },
  {
   "cell_type": "markdown",
   "id": "b68f9893",
   "metadata": {},
   "source": []
  }
 ],
 "metadata": {
  "kernelspec": {
   "display_name": "Python 3.9.12 ('base')",
   "language": "python",
   "name": "python3"
  },
  "language_info": {
   "codemirror_mode": {
    "name": "ipython",
    "version": 3
   },
   "file_extension": ".py",
   "mimetype": "text/x-python",
   "name": "python",
   "nbconvert_exporter": "python",
   "pygments_lexer": "ipython3",
   "version": "3.9.12"
  },
  "toc": {
   "base_numbering": 1,
   "nav_menu": {},
   "number_sections": true,
   "sideBar": true,
   "skip_h1_title": false,
   "title_cell": "Table of Contents",
   "title_sidebar": "Contents",
   "toc_cell": true,
   "toc_position": {},
   "toc_section_display": true,
   "toc_window_display": true
  },
  "vscode": {
   "interpreter": {
    "hash": "bdd4b7b683742405369341ac99f4cea49082b55be2202c0904c0042dcc1bb8dd"
   }
  }
 },
 "nbformat": 4,
 "nbformat_minor": 5
}
