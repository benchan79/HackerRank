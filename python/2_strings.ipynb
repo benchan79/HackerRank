{
 "cells": [
  {
   "cell_type": "markdown",
   "id": "21727deb",
   "metadata": {
    "toc": true
   },
   "source": [
    "<h1>Table of Contents<span class=\"tocSkip\"></span></h1>\n",
    "<div class=\"toc\"><ul class=\"toc-item\"><li><span><a href=\"#sWAP-cASE\" data-toc-modified-id=\"sWAP-cASE-1\"><span class=\"toc-item-num\">1&nbsp;&nbsp;</span>sWAP cASE</a></span></li><li><span><a href=\"#String-Split-and-Join\" data-toc-modified-id=\"String-Split-and-Join-2\"><span class=\"toc-item-num\">2&nbsp;&nbsp;</span>String Split and Join</a></span></li></ul></div>"
   ]
  },
  {
   "cell_type": "markdown",
   "id": "8fa21905",
   "metadata": {},
   "source": [
    "# sWAP cASE\n",
    "You are given a string and your task is to swap cases. In other words, convert all lowercase letters to uppercase letters and vice versa."
   ]
  },
  {
   "cell_type": "code",
   "execution_count": 2,
   "id": "de9e6d80",
   "metadata": {},
   "outputs": [
    {
     "name": "stdout",
     "output_type": "stream",
     "text": [
      "HackerRank.com presents \"Pythonist 2\".\n",
      "hACKERrANK.COM PRESENTS \"pYTHONIST 2\".\n"
     ]
    }
   ],
   "source": [
    "def swap_case(s):\n",
    "    return s.swapcase()\n",
    "\n",
    "if __name__ == '__main__':\n",
    "    s = input()\n",
    "    result = swap_case(s)\n",
    "    print(result)"
   ]
  },
  {
   "cell_type": "markdown",
   "id": "35f43397",
   "metadata": {},
   "source": [
    "# String Split and Join\n",
    "\n",
    "You are given a string. Split the string on a `\" \"` (space) delimiter and join using a `-` hyphen."
   ]
  },
  {
   "cell_type": "code",
   "execution_count": 8,
   "id": "c96a092f",
   "metadata": {},
   "outputs": [
    {
     "name": "stdout",
     "output_type": "stream",
     "text": [
      "this is a string\n",
      "this-is-a-string\n"
     ]
    }
   ],
   "source": [
    "def split_and_join(line):\n",
    "    line = line.split(\" \")\n",
    "    line = \"-\".join(line)\n",
    "    return line\n",
    "\n",
    "if __name__ == '__main__':\n",
    "    line = input()\n",
    "    result = split_and_join(line)\n",
    "    print(result)"
   ]
  },
  {
   "cell_type": "code",
   "execution_count": null,
   "id": "7443bd66",
   "metadata": {},
   "outputs": [],
   "source": [
    "print \"-\".join(input().split())"
   ]
  }
 ],
 "metadata": {
  "kernelspec": {
   "display_name": "Python 3 (ipykernel)",
   "language": "python",
   "name": "python3"
  },
  "language_info": {
   "codemirror_mode": {
    "name": "ipython",
    "version": 3
   },
   "file_extension": ".py",
   "mimetype": "text/x-python",
   "name": "python",
   "nbconvert_exporter": "python",
   "pygments_lexer": "ipython3",
   "version": "3.9.12"
  },
  "toc": {
   "base_numbering": 1,
   "nav_menu": {},
   "number_sections": true,
   "sideBar": true,
   "skip_h1_title": false,
   "title_cell": "Table of Contents",
   "title_sidebar": "Contents",
   "toc_cell": true,
   "toc_position": {},
   "toc_section_display": true,
   "toc_window_display": true
  }
 },
 "nbformat": 4,
 "nbformat_minor": 5
}
