{
 "cells": [
  {
   "cell_type": "markdown",
   "id": "7d843ee9",
   "metadata": {
    "toc": true
   },
   "source": [
    "<h1>Table of Contents<span class=\"tocSkip\"></span></h1>\n",
    "<div class=\"toc\"><ul class=\"toc-item\"><li><span><a href=\"#Say-&quot;Hello,-World!&quot;-With-Python\" data-toc-modified-id=\"Say-&quot;Hello,-World!&quot;-With-Python-1\"><span class=\"toc-item-num\">1&nbsp;&nbsp;</span>Say \"Hello, World!\" With Python</a></span></li><li><span><a href=\"#Python-If-Else\" data-toc-modified-id=\"Python-If-Else-2\"><span class=\"toc-item-num\">2&nbsp;&nbsp;</span>Python If-Else</a></span></li><li><span><a href=\"#Arithmetic-Operators\" data-toc-modified-id=\"Arithmetic-Operators-3\"><span class=\"toc-item-num\">3&nbsp;&nbsp;</span>Arithmetic Operators</a></span></li><li><span><a href=\"#Python:-Division\" data-toc-modified-id=\"Python:-Division-4\"><span class=\"toc-item-num\">4&nbsp;&nbsp;</span>Python: Division</a></span></li><li><span><a href=\"#Loops\" data-toc-modified-id=\"Loops-5\"><span class=\"toc-item-num\">5&nbsp;&nbsp;</span>Loops</a></span></li><li><span><a href=\"#Write-a-function\" data-toc-modified-id=\"Write-a-function-6\"><span class=\"toc-item-num\">6&nbsp;&nbsp;</span>Write a function</a></span></li><li><span><a href=\"#Print-Function\" data-toc-modified-id=\"Print-Function-7\"><span class=\"toc-item-num\">7&nbsp;&nbsp;</span>Print Function</a></span></li></ul></div>"
   ]
  },
  {
   "cell_type": "markdown",
   "id": "dbe0c4a9",
   "metadata": {},
   "source": [
    "# Say \"Hello, World!\" With Python\n",
    "Print `Hello, World!` to stdout."
   ]
  },
  {
   "cell_type": "code",
   "execution_count": 1,
   "id": "527349cf",
   "metadata": {},
   "outputs": [
    {
     "name": "stdout",
     "output_type": "stream",
     "text": [
      "Hello, World!\n"
     ]
    }
   ],
   "source": [
    "print(\"Hello, World!\")"
   ]
  },
  {
   "cell_type": "markdown",
   "id": "325c2f7f",
   "metadata": {},
   "source": [
    "# Python If-Else\n",
    "\n",
    "Given an integer, n, perform the following conditional actions:\n",
    "\n",
    "- If n is odd, print Weird\n",
    "- If n is even and in the inclusive range of 2 to 5, print Not Weird\n",
    "- If n is even and in the inclusive range of 6 to 20, print Weird\n",
    "- If n is even and greater than 20, print Not Weird"
   ]
  },
  {
   "cell_type": "code",
   "execution_count": 2,
   "id": "e267c94d",
   "metadata": {},
   "outputs": [
    {
     "name": "stdout",
     "output_type": "stream",
     "text": [
      "10\n",
      "Weird\n"
     ]
    }
   ],
   "source": [
    "if __name__ == '__main__':\n",
    "    n = int(input().strip())\n",
    "\n",
    "if n % 2 == 1:\n",
    "    print(\"Weird\")\n",
    "elif n % 2 == 0 and n in range(2, 6):\n",
    "    print(\"Not Weird\")\n",
    "elif n % 2 == 0 and n in range(6, 21):\n",
    "    print(\"Weird\")\n",
    "elif n % 2 == 0 and n > 20:\n",
    "    print(\"Not Weird\")"
   ]
  },
  {
   "cell_type": "code",
   "execution_count": 3,
   "id": "390b90af",
   "metadata": {},
   "outputs": [
    {
     "name": "stdout",
     "output_type": "stream",
     "text": [
      "10\n",
      "Weird\n"
     ]
    }
   ],
   "source": [
    "n = int(input())\n",
    "if n % 2:\n",
    "    print(\"Weird\")\n",
    "elif 2 <= n <= 5:\n",
    "    print(\"Not Weird\")\n",
    "elif 6 <= n <= 20:\n",
    "    print(\"Weird\")\n",
    "else:\n",
    "    print(\"Not Weird\")"
   ]
  },
  {
   "cell_type": "code",
   "execution_count": 4,
   "id": "3af96c99",
   "metadata": {},
   "outputs": [
    {
     "name": "stdout",
     "output_type": "stream",
     "text": [
      "10\n",
      "Weird\n"
     ]
    }
   ],
   "source": [
    "if __name__ == '__main__':\n",
    "    n = int(input().strip())\n",
    "    if n%2 or 6 <= n <= 20:\n",
    "        print('Weird')\n",
    "    else:\n",
    "        print('Not Weird') "
   ]
  },
  {
   "cell_type": "markdown",
   "id": "a233711e",
   "metadata": {},
   "source": [
    "# Arithmetic Operators\n",
    "The provided code stub reads two integers from STDIN, a and b. Add code to print three lines where:\n",
    "\n",
    "1. The first line contains the sum of the two numbers.\n",
    "2. The second line contains the difference of the two numbers (first - second).\n",
    "3. The third line contains the product of the two numbers."
   ]
  },
  {
   "cell_type": "code",
   "execution_count": 5,
   "id": "1a8cce56",
   "metadata": {},
   "outputs": [
    {
     "name": "stdout",
     "output_type": "stream",
     "text": [
      "2\n",
      "3\n",
      "5\n",
      "-1\n",
      "6\n"
     ]
    }
   ],
   "source": [
    "if __name__ == '__main__':\n",
    "    a = int(input())\n",
    "    b = int(input())\n",
    "    print(a + b)\n",
    "    print(a - b)\n",
    "    print(a * b)"
   ]
  },
  {
   "cell_type": "markdown",
   "id": "58b5d0bb",
   "metadata": {},
   "source": [
    "# Python: Division\n",
    "The provided code stub reads two integers, a and b, from STDIN.\n",
    "\n",
    "Add logic to print two lines. The first line should contain the result of integer division, a // b. The second line should contain the result of float division, a / b.\n",
    "\n",
    "No rounding or formatting is necessary."
   ]
  },
  {
   "cell_type": "code",
   "execution_count": 6,
   "id": "48722002",
   "metadata": {},
   "outputs": [
    {
     "name": "stdout",
     "output_type": "stream",
     "text": [
      "10\n",
      "3\n",
      "3\n",
      "3.3333333333333335\n"
     ]
    }
   ],
   "source": [
    "a = int(input())\n",
    "b = int(input())\n",
    "\n",
    "print(a // b)\n",
    "print(a / b)"
   ]
  },
  {
   "cell_type": "markdown",
   "id": "24d7bcd3",
   "metadata": {},
   "source": [
    "# Loops\n",
    "\n",
    "The provided code stub reads and integer, n, from STDIN. For all non-negative integers i < n, print i^2."
   ]
  },
  {
   "cell_type": "code",
   "execution_count": 7,
   "id": "37297d29",
   "metadata": {},
   "outputs": [
    {
     "name": "stdout",
     "output_type": "stream",
     "text": [
      "5\n",
      "0\n",
      "1\n",
      "4\n",
      "9\n",
      "16\n"
     ]
    }
   ],
   "source": [
    "if __name__ == '__main__':\n",
    "    n = int(input())\n",
    "    \n",
    "for i in range(n):\n",
    "    print(i ** 2)"
   ]
  },
  {
   "cell_type": "markdown",
   "id": "d08ba5c6",
   "metadata": {},
   "source": [
    "# Write a function\n",
    "An extra day is added to the calendar almost every four years as February 29, and the day is called a leap day. It corrects the calendar for the fact that our planet takes approximately 365.25 days to orbit the sun. A leap year contains a leap day.\n",
    "\n",
    "In the Gregorian calendar, three conditions are used to identify leap years:\n",
    "\n",
    "- The year can be evenly divided by 4, is a leap year, unless:\n",
    "- The year can be evenly divided by 100, it is NOT a leap year, unless:\n",
    "- The year is also evenly divisible by 400. Then it is a leap year.\n",
    "\n",
    "This means that in the Gregorian calendar, the years 2000 and 2400 are leap years, while 1800, 1900, 2100, 2200, 2300 and 2500 are NOT leap years. Source\n",
    "\n",
    "http://www.timeanddate.com/date/leapyear.html"
   ]
  },
  {
   "cell_type": "code",
   "execution_count": 10,
   "id": "faef96e6",
   "metadata": {},
   "outputs": [
    {
     "name": "stdout",
     "output_type": "stream",
     "text": [
      "1996\n",
      "True\n"
     ]
    }
   ],
   "source": [
    "def is_leap(year):\n",
    "    leap = False\n",
    "    if (year % 400 != 0) and (year % 100 == 0) and (year % 4 == 0):\n",
    "        leap = False\n",
    "    elif year % 4 == 0:\n",
    "            leap = True\n",
    "    return leap\n",
    "\n",
    "year = int(input())\n",
    "print(is_leap(year))"
   ]
  },
  {
   "cell_type": "code",
   "execution_count": 11,
   "id": "030f1c79",
   "metadata": {},
   "outputs": [
    {
     "name": "stdout",
     "output_type": "stream",
     "text": [
      "1996\n",
      "True\n"
     ]
    }
   ],
   "source": [
    "def is_leap(year):\n",
    "    if year % 400 == 0:\n",
    "        return True\n",
    "    if year % 100 == 0:\n",
    "        return False\n",
    "    if year % 4 == 0:\n",
    "        return True\n",
    "    return False\n",
    "\n",
    "year = int(input())\n",
    "print(is_leap(year))"
   ]
  },
  {
   "cell_type": "code",
   "execution_count": 12,
   "id": "c96de4bf",
   "metadata": {},
   "outputs": [
    {
     "name": "stdout",
     "output_type": "stream",
     "text": [
      "1996\n",
      "True\n"
     ]
    }
   ],
   "source": [
    "def is_leap(year):\n",
    "    return (year % 400 == 0) or (( year % 100 != 0) and (year % 4 == 0))\n",
    "\n",
    "year = int(input())\n",
    "print(is_leap(year))"
   ]
  },
  {
   "cell_type": "markdown",
   "id": "50de62d5",
   "metadata": {},
   "source": [
    "# Print Function\n",
    "The included code stub will read an integer, n, from STDIN.\n",
    "\n",
    "Without using any string methods, try to print the following:\n",
    "`123...n`\n",
    "\n",
    "Note that `...` represents the consecutive values in between."
   ]
  },
  {
   "cell_type": "code",
   "execution_count": 13,
   "id": "ddf22785",
   "metadata": {},
   "outputs": [
    {
     "name": "stdout",
     "output_type": "stream",
     "text": [
      "5\n",
      "12345\n"
     ]
    }
   ],
   "source": [
    "if __name__ == '__main__':\n",
    "    n = int(input())\n",
    "\n",
    "my_str = \"\"\n",
    "\n",
    "for x in list(range(1, n+1)):\n",
    "    my_str += str(x)\n",
    "print(my_str)"
   ]
  },
  {
   "cell_type": "code",
   "execution_count": 14,
   "id": "0de150fd",
   "metadata": {},
   "outputs": [
    {
     "name": "stdout",
     "output_type": "stream",
     "text": [
      "5\n",
      "12345\n"
     ]
    }
   ],
   "source": [
    "print(*range(1, int(input()) + 1), sep=\"\")  "
   ]
  },
  {
   "cell_type": "code",
   "execution_count": 15,
   "id": "dea94862",
   "metadata": {},
   "outputs": [
    {
     "name": "stdout",
     "output_type": "stream",
     "text": [
      "5\n",
      "12345\n"
     ]
    }
   ],
   "source": [
    "n = int(input())\n",
    "print(''.join(map(str,range(1,n+1))))"
   ]
  },
  {
   "cell_type": "code",
   "execution_count": 16,
   "id": "98efdc15",
   "metadata": {},
   "outputs": [
    {
     "name": "stdout",
     "output_type": "stream",
     "text": [
      "5\n",
      "12345"
     ]
    },
    {
     "data": {
      "text/plain": [
       "[None, None, None, None, None]"
      ]
     },
     "execution_count": 16,
     "metadata": {},
     "output_type": "execute_result"
    }
   ],
   "source": [
    "list(map(lambda x:print(x + 1, end=''), range(int(input()))))"
   ]
  },
  {
   "cell_type": "code",
   "execution_count": null,
   "id": "8da2258c",
   "metadata": {},
   "outputs": [],
   "source": []
  }
 ],
 "metadata": {
  "kernelspec": {
   "display_name": "Python 3 (ipykernel)",
   "language": "python",
   "name": "python3"
  },
  "language_info": {
   "codemirror_mode": {
    "name": "ipython",
    "version": 3
   },
   "file_extension": ".py",
   "mimetype": "text/x-python",
   "name": "python",
   "nbconvert_exporter": "python",
   "pygments_lexer": "ipython3",
   "version": "3.9.12"
  },
  "toc": {
   "base_numbering": 1,
   "nav_menu": {},
   "number_sections": true,
   "sideBar": true,
   "skip_h1_title": false,
   "title_cell": "Table of Contents",
   "title_sidebar": "Contents",
   "toc_cell": true,
   "toc_position": {},
   "toc_section_display": true,
   "toc_window_display": true
  }
 },
 "nbformat": 4,
 "nbformat_minor": 5
}
