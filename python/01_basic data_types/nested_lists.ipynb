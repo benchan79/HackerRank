{
 "cells": [
  {
   "cell_type": "markdown",
   "id": "ebcb4bc9",
   "metadata": {
    "toc": true
   },
   "source": [
    "<h1>Table of Contents<span class=\"tocSkip\"></span></h1>\n",
    "<div class=\"toc\"><ul class=\"toc-item\"><li><span><a href=\"#Nested-Lists\" data-toc-modified-id=\"Nested-Lists-1\"><span class=\"toc-item-num\">1&nbsp;&nbsp;</span>Nested Lists</a></span><ul class=\"toc-item\"><li><span><a href=\"#Input-Format\" data-toc-modified-id=\"Input-Format-1.1\"><span class=\"toc-item-num\">1.1&nbsp;&nbsp;</span>Input Format</a></span></li><li><span><a href=\"#Constraints\" data-toc-modified-id=\"Constraints-1.2\"><span class=\"toc-item-num\">1.2&nbsp;&nbsp;</span>Constraints</a></span></li></ul></li></ul></div>"
   ]
  },
  {
   "cell_type": "markdown",
   "id": "2d742946",
   "metadata": {},
   "source": [
    "# Nested Lists\n",
    "Given the names and grades for each student in a class of N students, store them in a nested list and print the name(s) of any student(s) having the second lowest grade.\n",
    "\n",
    "Note: If there are multiple students with the second lowest grade, order their names alphabetically and print each name on a new line.\n",
    "\n",
    "## Input Format\n",
    "\n",
    "The first line contains an integer, N, the number of students.\n",
    "\n",
    "The 2N subsequent lines describe each student over 2 lines.\n",
    "- The first line contains a student's name.\n",
    "- The second line contains their grade.\n",
    "\n",
    "## Constraints\n",
    "- 2 <= N <= 5\n",
    "- There will always be one or more students having the second lowest grade."
   ]
  },
  {
   "cell_type": "code",
   "execution_count": 2,
   "id": "daef9b8a",
   "metadata": {},
   "outputs": [
    {
     "name": "stdout",
     "output_type": "stream",
     "text": [
      "5\n",
      "Harry\n",
      "37.21\n",
      "Berry\n",
      "37.21\n",
      "Tina\n",
      "37.2\n",
      "Akriti\n",
      "41\n",
      "Harsh\n",
      "39\n",
      "\n",
      "The second lowest grade of 37.21 belong to:\n",
      "Berry\n",
      "Harry\n"
     ]
    }
   ],
   "source": [
    "if __name__ == '__main__':\n",
    "    \n",
    "    records = []\n",
    "    scores = []\n",
    "    \n",
    "    for _ in range(int(input())):\n",
    "        name = input()\n",
    "        score = float(input())\n",
    "        records.append([name, score])\n",
    "        scores.append(score)\n",
    "    \n",
    "    unique_scores = list(set(scores))\n",
    "    second_lowest_score = sorted(unique_scores)[1]\n",
    "    \n",
    "    second_lowest_students = []\n",
    "    for name, score in records:\n",
    "        if score == second_lowest_score:\n",
    "            second_lowest_students.append(name)\n",
    "    \n",
    "    print()\n",
    "    print(f\"The second lowest grade of {second_lowest_score} belongs to:\")\n",
    "    for name in sorted(second_lowest_students):\n",
    "        print(name)"
   ]
  },
  {
   "cell_type": "code",
   "execution_count": 3,
   "id": "6205ab52",
   "metadata": {},
   "outputs": [
    {
     "name": "stdout",
     "output_type": "stream",
     "text": [
      "[['Harry', 37.21], ['Berry', 37.21], ['Tina', 37.2], ['Akriti', 41.0], ['Harsh', 39.0]]\n"
     ]
    }
   ],
   "source": [
    "print(records)"
   ]
  },
  {
   "cell_type": "code",
   "execution_count": 1,
   "id": "ef67823a",
   "metadata": {},
   "outputs": [
    {
     "name": "stdout",
     "output_type": "stream",
     "text": [
      "\n",
      "The second lowest grade of 37.21 belongs to:\n",
      "Berry\n",
      "Harry\n"
     ]
    }
   ],
   "source": [
    "# Alternate solution to sort list using key\n",
    "\n",
    "records = [['Harry', 37.21], ['Berry', 37.21], ['Tina', 37.2], ['Akriti', 41.0], ['Harsh', 39.0]]\n",
    "\n",
    "def take_score(record):\n",
    "    return record[1]\n",
    "\n",
    "records.sort(key=take_score)\n",
    "second_lowest_score = records[1][1]\n",
    "\n",
    "second_lowest_students = []\n",
    "for name, score in records:\n",
    "    if score == second_lowest_score:\n",
    "        second_lowest_students.append(name)\n",
    "\n",
    "print()\n",
    "print(f\"The second lowest grade of {second_lowest_score} belongs to:\")\n",
    "for name in sorted(second_lowest_students):\n",
    "    print(name)"
   ]
  }
 ],
 "metadata": {
  "kernelspec": {
   "display_name": "Python 3 (ipykernel)",
   "language": "python",
   "name": "python3"
  },
  "language_info": {
   "codemirror_mode": {
    "name": "ipython",
    "version": 3
   },
   "file_extension": ".py",
   "mimetype": "text/x-python",
   "name": "python",
   "nbconvert_exporter": "python",
   "pygments_lexer": "ipython3",
   "version": "3.9.12"
  },
  "toc": {
   "base_numbering": 1,
   "nav_menu": {},
   "number_sections": true,
   "sideBar": true,
   "skip_h1_title": false,
   "title_cell": "Table of Contents",
   "title_sidebar": "Contents",
   "toc_cell": true,
   "toc_position": {},
   "toc_section_display": true,
   "toc_window_display": true
  },
  "vscode": {
   "interpreter": {
    "hash": "b436b121d6030e98909f75ceab41165d13ba55a3b97d1a3afabfa64e4846fce0"
   }
  }
 },
 "nbformat": 4,
 "nbformat_minor": 5
}
