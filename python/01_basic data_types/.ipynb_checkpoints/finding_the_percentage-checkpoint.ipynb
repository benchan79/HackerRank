{
 "cells": [
  {
   "cell_type": "markdown",
   "id": "88135024",
   "metadata": {
    "toc": true
   },
   "source": [
    "<h1>Table of Contents<span class=\"tocSkip\"></span></h1>\n",
    "<div class=\"toc\"><ul class=\"toc-item\"><li><span><a href=\"#Finding-the-percentage\" data-toc-modified-id=\"Finding-the-percentage-1\"><span class=\"toc-item-num\">1&nbsp;&nbsp;</span>Finding the percentage</a></span><ul class=\"toc-item\"><li><span><a href=\"#Problem\" data-toc-modified-id=\"Problem-1.1\"><span class=\"toc-item-num\">1.1&nbsp;&nbsp;</span>Problem</a></span></li><li><span><a href=\"#Input-Format\" data-toc-modified-id=\"Input-Format-1.2\"><span class=\"toc-item-num\">1.2&nbsp;&nbsp;</span>Input Format</a></span></li><li><span><a href=\"#Constraints\" data-toc-modified-id=\"Constraints-1.3\"><span class=\"toc-item-num\">1.3&nbsp;&nbsp;</span>Constraints</a></span></li></ul></li></ul></div>"
   ]
  },
  {
   "attachments": {},
   "cell_type": "markdown",
   "id": "371db90e",
   "metadata": {},
   "source": [
    "# Finding the percentage\n",
    "\n",
    "## Problem\n",
    "The provided code stub will read in a dictionary containing key/value pairs of name:`[marks]` for a list of students. Print the average of the marks array for the student name provided, showing 2 places after the decimal.\n",
    "\n",
    "## Input Format\n",
    "\n",
    "The first line contains the integer n, the number of students' records. The next n lines contain the names and marks obtained by a student, each value separated by a space. The final line contains `query_name`, the name of a student to query.\n",
    "\n",
    "## Constraints\n",
    "- 2 <= n <=10\n",
    "- 0 <= marks[ i ] <= 100\n",
    "- length of marks arrays = 3"
   ]
  },
  {
   "cell_type": "code",
   "execution_count": 1,
   "id": "d0a1a5b4",
   "metadata": {},
   "outputs": [
    {
     "name": "stdout",
     "output_type": "stream",
     "text": [
      "3\n",
      "Krishna 67 68 69\n",
      "Arjun 70 98 63\n",
      "Malika 52 56 60\n",
      "Malika\n",
      "56.00\n"
     ]
    }
   ],
   "source": [
    "if __name__ == '__main__':\n",
    "    n = int(input())\n",
    "    student_marks = {}\n",
    "    for _ in range(n):\n",
    "        name, *line = input().split()\n",
    "        scores = list(map(float, line))\n",
    "        student_marks[name] = scores\n",
    "    query_name = input()\n",
    "\n",
    "    total_marks = sum(student_marks[query_name])\n",
    "    average_marks = total_marks / len(student_marks[query_name])\n",
    "\n",
    "    print(f\"{average_marks:.2f}\")"
   ]
  }
 ],
 "metadata": {
  "kernelspec": {
   "display_name": "Python 3 (ipykernel)",
   "language": "python",
   "name": "python3"
  },
  "language_info": {
   "codemirror_mode": {
    "name": "ipython",
    "version": 3
   },
   "file_extension": ".py",
   "mimetype": "text/x-python",
   "name": "python",
   "nbconvert_exporter": "python",
   "pygments_lexer": "ipython3",
   "version": "3.9.12"
  },
  "toc": {
   "base_numbering": 1,
   "nav_menu": {},
   "number_sections": true,
   "sideBar": true,
   "skip_h1_title": false,
   "title_cell": "Table of Contents",
   "title_sidebar": "Contents",
   "toc_cell": true,
   "toc_position": {},
   "toc_section_display": true,
   "toc_window_display": true
  }
 },
 "nbformat": 4,
 "nbformat_minor": 5
}
