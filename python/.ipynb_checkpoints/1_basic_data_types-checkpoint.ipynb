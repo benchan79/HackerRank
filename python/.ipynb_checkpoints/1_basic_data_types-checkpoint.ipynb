{
 "cells": [
  {
   "cell_type": "markdown",
   "id": "665334d1",
   "metadata": {
    "toc": true
   },
   "source": [
    "<h1>Table of Contents<span class=\"tocSkip\"></span></h1>\n",
    "<div class=\"toc\"><ul class=\"toc-item\"><li><span><a href=\"#List-Comprehensions\" data-toc-modified-id=\"List-Comprehensions-1\"><span class=\"toc-item-num\">1&nbsp;&nbsp;</span>List Comprehensions</a></span></li><li><span><a href=\"#Find-the-Runner-Up-Score!\" data-toc-modified-id=\"Find-the-Runner-Up-Score!-2\"><span class=\"toc-item-num\">2&nbsp;&nbsp;</span>Find the Runner-Up Score!</a></span></li><li><span><a href=\"#Nested-Lists\" data-toc-modified-id=\"Nested-Lists-3\"><span class=\"toc-item-num\">3&nbsp;&nbsp;</span>Nested Lists</a></span></li><li><span><a href=\"#Finding-the-percentage\" data-toc-modified-id=\"Finding-the-percentage-4\"><span class=\"toc-item-num\">4&nbsp;&nbsp;</span>Finding the percentage</a></span></li><li><span><a href=\"#Lists\" data-toc-modified-id=\"Lists-5\"><span class=\"toc-item-num\">5&nbsp;&nbsp;</span>Lists</a></span></li><li><span><a href=\"#Tuples\" data-toc-modified-id=\"Tuples-6\"><span class=\"toc-item-num\">6&nbsp;&nbsp;</span>Tuples</a></span></li></ul></div>"
   ]
  },
  {
   "cell_type": "markdown",
   "id": "7ac0be18",
   "metadata": {},
   "source": [
    "# List Comprehensions \n",
    "Let's learn about list comprehensions! \n",
    "\n",
    "You are given three integers x, y and z representing the dimensions of a cuboid along with an integer. \n",
    "\n",
    "Print a list of all possible coordinates given by (i, j, k) on a 3D grid where the sum of i + j + k is not equal to n. \n",
    "\n",
    "Here, 0 <= i <= x; 0 <= j <= y; 0 <= k <= z. \n",
    "\n",
    "Please use list comprehensions rather than multiple loops, as a learning exercise."
   ]
  },
  {
   "cell_type": "code",
   "execution_count": 1,
   "id": "58b5a71c",
   "metadata": {},
   "outputs": [
    {
     "name": "stdout",
     "output_type": "stream",
     "text": [
      "2\n",
      "2\n",
      "2\n",
      "2\n",
      "[[0, 0, 0], [0, 0, 1], [0, 1, 0], [0, 1, 2], [0, 2, 1], [0, 2, 2], [1, 0, 0], [1, 0, 2], [1, 1, 1], [1, 1, 2], [1, 2, 0], [1, 2, 1], [1, 2, 2], [2, 0, 1], [2, 0, 2], [2, 1, 0], [2, 1, 1], [2, 1, 2], [2, 2, 0], [2, 2, 1], [2, 2, 2]]\n"
     ]
    }
   ],
   "source": [
    "if __name__ == '__main__':\n",
    "    x = int(input())\n",
    "    y = int(input())\n",
    "    z = int(input())\n",
    "    n = int(input())\n",
    "    \n",
    "result = [[i, j, k] for i in range(x + 1) \n",
    "                    for j in range(y + 1) \n",
    "                    for k in range(z + 1) \n",
    "                    if sum([i, j, k]) != n]\n",
    "print(result)"
   ]
  },
  {
   "cell_type": "markdown",
   "id": "5205255e",
   "metadata": {},
   "source": [
    "# Find the Runner-Up Score!\n",
    "Given the participants' score sheet for your University Sports Day, you are required to find the runner-up score. You are given n scores. Store them in a list and find the score of the runner-up."
   ]
  },
  {
   "cell_type": "code",
   "execution_count": 2,
   "id": "2c5e5902",
   "metadata": {},
   "outputs": [
    {
     "name": "stdout",
     "output_type": "stream",
     "text": [
      "5\n",
      "2 3 6 6 5\n",
      "5\n"
     ]
    }
   ],
   "source": [
    "if __name__ == '__main__':\n",
    "    n = int(input())\n",
    "    arr = map(int, input().split())\n",
    "\n",
    "    arr2 = sorted(list(set(arr)))\n",
    "    print(arr2[-2])"
   ]
  },
  {
   "cell_type": "markdown",
   "id": "ddb9ac1b",
   "metadata": {},
   "source": [
    "# Nested Lists\n",
    "Given the names and grades for each student in a class of N students, store them in a nested list and print the name(s) of any student(s) having the second lowest grade.\n",
    "\n",
    "Note: If there are multiple students with the second lowest grade, order their names alphabetically and print each name on a new line."
   ]
  },
  {
   "cell_type": "code",
   "execution_count": 3,
   "id": "bdf867e9",
   "metadata": {},
   "outputs": [
    {
     "name": "stdout",
     "output_type": "stream",
     "text": [
      "5\n",
      "Harry\n",
      "37.21\n",
      "Berry\n",
      "37.21\n",
      "Tina\n",
      "37.2\n",
      "Akriti\n",
      "41\n",
      "Harsh\n",
      "39\n",
      "Berry\n",
      "Harry\n"
     ]
    }
   ],
   "source": [
    "if __name__ == '__main__':\n",
    "    records = []\n",
    "    scores = []\n",
    "    for _ in range(int(input())):\n",
    "        name = input()\n",
    "        score = float(input())\n",
    "        records.append([name, score])\n",
    "        scores.append(score)\n",
    "    \n",
    "    unique_scores = list(set(scores))\n",
    "    second_lowest_score = sorted(unique_scores)[1]\n",
    "    \n",
    "    second_lowest_names = []\n",
    "    for name, score in records:\n",
    "        if score == second_lowest_score:\n",
    "            second_lowest_names.append(name)\n",
    "            \n",
    "    for name in sorted(second_lowest_names):\n",
    "        print(name)"
   ]
  },
  {
   "cell_type": "code",
   "execution_count": null,
   "id": "364b220f",
   "metadata": {},
   "outputs": [],
   "source": [
    "a = [[input(), float(input())] for i in xrange(int(input()))]\n",
    "s = sorted(set([x[1] for x in a]))\n",
    "for name in sorted(x[0] for x in a if x[1] == s[1]):\n",
    "    print(name)"
   ]
  },
  {
   "cell_type": "markdown",
   "id": "7cd9aa28",
   "metadata": {},
   "source": [
    "# Finding the percentage\n",
    "The provided code stub will read in a dictionary containing key/value pairs of name:[marks] for a list of students. Print the average of the marks array for the student name provided, showing 2 places after the decimal."
   ]
  },
  {
   "cell_type": "code",
   "execution_count": 4,
   "id": "0f77772a",
   "metadata": {},
   "outputs": [
    {
     "name": "stdout",
     "output_type": "stream",
     "text": [
      "3\n",
      "Krishna 67 68 69\n",
      "Arjun 70 98 63\n",
      "Malika 52 56 60\n",
      "Malika\n",
      "56.00\n"
     ]
    }
   ],
   "source": [
    "if __name__ == '__main__':\n",
    "    n = int(input())\n",
    "    student_marks = {}\n",
    "    for _ in range(n):\n",
    "        name, *line = input().split()\n",
    "        scores = list(map(float, line))\n",
    "        student_marks[name] = scores\n",
    "    query_name = input()\n",
    "    total_marks = sum(student_marks[query_name])\n",
    "    average_marks = total_marks / len(student_marks[query_name])\n",
    "\n",
    "    print(f\"{average_marks:.2f}\")"
   ]
  },
  {
   "cell_type": "markdown",
   "id": "c62badf4",
   "metadata": {},
   "source": [
    "# Lists\n",
    "\n",
    "Consider a list `(list = [])`. You can perform the following commands:\n",
    "\n",
    "1. `insert i e`: Insert integer e at position i.\n",
    "2. `print`: Print the list.\n",
    "3. `remove e`: Delete the first occurrence of integer e.\n",
    "4. `append e`: Insert integer e at the end of the list.\n",
    "5. `sort`: Sort the list.\n",
    "6. `pop`: Pop the last element from the list.\n",
    "7. `reverse`: Reverse the list.\n",
    "\n",
    "Initialize your list and read in the value of n followed by n lines of commands where each command will be of the 7 types listed above. Iterate through each command in order and perform the corresponding operation on your list."
   ]
  },
  {
   "cell_type": "code",
   "execution_count": 5,
   "id": "a80a6ddc",
   "metadata": {},
   "outputs": [
    {
     "name": "stdout",
     "output_type": "stream",
     "text": [
      "12\n",
      "insert 0 5\n",
      "insert 1 10\n",
      "insert 0 6\n",
      "print\n",
      "[6, 5, 10]\n",
      "remove 6\n",
      "append 9\n",
      "append 1\n",
      "sort\n",
      "print\n",
      "[1, 5, 9, 10]\n",
      "pop\n",
      "reverse\n",
      "print\n",
      "[9, 5, 1]\n"
     ]
    }
   ],
   "source": [
    "if __name__ == '__main__':\n",
    "    n = int(input())\n",
    "    my_list = []\n",
    "    for i in range(n):\n",
    "        commands = input().split()\n",
    "        if commands[0] == 'insert':\n",
    "            my_list.insert( int(commands[1]), int(commands[2]) )\n",
    "        elif commands[0] == 'print':\n",
    "            print(my_list)\n",
    "        elif commands[0] == 'remove':\n",
    "            my_list.remove( int(commands[1]) )\n",
    "        elif commands[0] == 'append':\n",
    "            my_list.append( int(commands[1]) )\n",
    "        elif commands[0] == 'sort':\n",
    "            my_list.sort()\n",
    "        elif commands[0] == 'pop':\n",
    "            my_list.pop()\n",
    "        elif commands[0] == 'reverse':\n",
    "            my_list.reverse()"
   ]
  },
  {
   "cell_type": "code",
   "execution_count": null,
   "id": "0ab32650",
   "metadata": {},
   "outputs": [],
   "source": [
    "list1 = []\n",
    "n = int(input())\n",
    "for i in range(n):\n",
    "    command, *parameter = input().split()\n",
    "    parameter = list(map(int, d))\n",
    "    if command == \"print\":\n",
    "        print(list1)\n",
    "    else:\n",
    "        getattr(list1, command)(*parameter)"
   ]
  },
  {
   "cell_type": "markdown",
   "id": "7767bf82",
   "metadata": {},
   "source": [
    "# Tuples\n",
    "\n",
    "Given an integer, n, and n space-separated integers as input, create a tuple, t, of those n integers. Then compute and print the result of hash(t).\n",
    "\n",
    "Note: hash() is one of the functions in the __builtins__ module, so it need not be imported."
   ]
  },
  {
   "cell_type": "code",
   "execution_count": 6,
   "id": "2ebb32a6",
   "metadata": {},
   "outputs": [
    {
     "name": "stdout",
     "output_type": "stream",
     "text": [
      "2\n",
      "1 2\n",
      "-3550055125485641917\n"
     ]
    }
   ],
   "source": [
    "if __name__ == '__main__':\n",
    "    n = int(input())\n",
    "    integer_list = map(int, input().split())\n",
    "    t = tuple(integer_list)\n",
    "    print(hash(t))"
   ]
  },
  {
   "cell_type": "code",
   "execution_count": 8,
   "id": "fc1d5e99",
   "metadata": {},
   "outputs": [
    {
     "name": "stdout",
     "output_type": "stream",
     "text": [
      "2\n",
      "1 2\n",
      "-3550055125485641917\n"
     ]
    }
   ],
   "source": [
    "n = int(input())\n",
    "print( hash( tuple( [ int(i) for i in input().split() ] ) ) )"
   ]
  }
 ],
 "metadata": {
  "kernelspec": {
   "display_name": "Python 3 (ipykernel)",
   "language": "python",
   "name": "python3"
  },
  "language_info": {
   "codemirror_mode": {
    "name": "ipython",
    "version": 3
   },
   "file_extension": ".py",
   "mimetype": "text/x-python",
   "name": "python",
   "nbconvert_exporter": "python",
   "pygments_lexer": "ipython3",
   "version": "3.9.12"
  },
  "toc": {
   "base_numbering": 1,
   "nav_menu": {},
   "number_sections": true,
   "sideBar": true,
   "skip_h1_title": false,
   "title_cell": "Table of Contents",
   "title_sidebar": "Contents",
   "toc_cell": true,
   "toc_position": {},
   "toc_section_display": true,
   "toc_window_display": true
  }
 },
 "nbformat": 4,
 "nbformat_minor": 5
}
