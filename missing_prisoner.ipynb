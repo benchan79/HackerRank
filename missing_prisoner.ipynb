{
 "cells": [
  {
   "cell_type": "markdown",
   "metadata": {},
   "source": [
    "# Question 2\n",
    "\n",
    "Find the missing vertex of a rectangle or square."
   ]
  },
  {
   "cell_type": "code",
   "execution_count": 1,
   "metadata": {},
   "outputs": [
    {
     "name": "stdout",
     "output_type": "stream",
     "text": [
      "1 6\n"
     ]
    }
   ],
   "source": [
    "def missingPrisoner(locations):\n",
    "    l_size = len(locations)\n",
    "    gp_count = (l_size + 1) / 4\n",
    "    \n",
    "    # store frequencies of x-coord in a dictionary\n",
    "    xcoord_freq = {}\n",
    "    for i in range(len(locations)):\n",
    "        xcoord_freq[locations[i][0]] = 0\n",
    "    for i in range(len(locations)):\n",
    "        xcoord_freq[locations[i][0]] += 1\n",
    "        \n",
    "    # look for item with odd number of frequencies\n",
    "    for coord in xcoord_freq.keys():\n",
    "        if (xcoord_freq[coord] % 2 == 1):\n",
    "            x_coord = coord\n",
    "\n",
    "    # store frequencies of y-coord in a dictionary\n",
    "    ycoord_freq = {}\n",
    "    for i in range(l_size):\n",
    "        ycoord_freq[locations[i][1]] = 0\n",
    "    for i in range(l_size):\n",
    "        ycoord_freq[locations[i][1]] += 1\n",
    "        \n",
    "    # look for item with odd number of frequencies\n",
    "    for coord in ycoord_freq.keys():\n",
    "        if (ycoord_freq[coord] % 2 == 1):\n",
    "            y_coord = coord\n",
    "            \n",
    "    # print the x and y coords that have an odd number of frequencies\n",
    "    print(x_coord, y_coord)\n",
    "\n",
    "locations = [[1,1], [5,1], [5,6]]\n",
    "\n",
    "missingPrisoner(locations)"
   ]
  }
 ],
 "metadata": {
  "kernelspec": {
   "display_name": "Python 3.9.12 ('base')",
   "language": "python",
   "name": "python3"
  },
  "language_info": {
   "codemirror_mode": {
    "name": "ipython",
    "version": 3
   },
   "file_extension": ".py",
   "mimetype": "text/x-python",
   "name": "python",
   "nbconvert_exporter": "python",
   "pygments_lexer": "ipython3",
   "version": "3.9.12"
  },
  "orig_nbformat": 4,
  "vscode": {
   "interpreter": {
    "hash": "bdd4b7b683742405369341ac99f4cea49082b55be2202c0904c0042dcc1bb8dd"
   }
  }
 },
 "nbformat": 4,
 "nbformat_minor": 2
}
