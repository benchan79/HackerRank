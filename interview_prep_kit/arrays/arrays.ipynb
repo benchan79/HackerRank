{
 "cells": [
  {
   "cell_type": "markdown",
   "metadata": {},
   "source": [
    "# 2D Array - DS"
   ]
  },
  {
   "cell_type": "code",
   "execution_count": 5,
   "metadata": {},
   "outputs": [
    {
     "data": {
      "text/plain": [
       "-6"
      ]
     },
     "execution_count": 5,
     "metadata": {},
     "output_type": "execute_result"
    }
   ],
   "source": [
    "#!/bin/python3\n",
    "\n",
    "import math\n",
    "import os\n",
    "import random\n",
    "import re\n",
    "import sys\n",
    "\n",
    "#\n",
    "# Complete the 'hourglassSum' function below.\n",
    "#\n",
    "# The function is expected to return an INTEGER.\n",
    "# The function accepts 2D_INTEGER_ARRAY arr as parameter.\n",
    "#\n",
    "\n",
    "def hourglassSum(arr):\n",
    "    max_sum = -float('inf')\n",
    "    for i in range(4):\n",
    "        for j in range(4):\n",
    "            hg_sum = sum(arr[i][j:j+3]) + arr[i+1][j+1] + sum(arr[i+2][j:j+3])\n",
    "            max_sum = max(max_sum, hg_sum)\n",
    "    return max_sum\n",
    "\n",
    "# arr = [[1, 1, 1, 0, 0, 0], [0, 1, 0, 0, 0, 0], [1, 1, 1, 0, 0, 0], \n",
    "#        [0, 0, 2, 4, 4, 0], [0, 0, 0, 2, 0, 0], [0, 0, 1, 2, 4, 0]]\n",
    "\n",
    "str_list = [\"-1 -1 0 -9 -2 -2\",\n",
    "            \"-2 -1 -6 -8 -2 -5\",\n",
    "            \"-1 -1 -1 -2 -3 -4\",\n",
    "            \"-1 -9 -2 -4 -4 -5\",\n",
    "            \"-7 -3 -3 -2 -9 -9\",\n",
    "            \"-1 -3 -1 -2 -4 -5\"]\n",
    "\n",
    "arr = []\n",
    "for row in str_list:\n",
    "    arr.append(list(map(int, row.rstrip().split())))\n",
    "    \n",
    "# print(*arr, sep=\"\\n\")\n",
    "# print()\n",
    "\n",
    "hourglassSum(arr)"
   ]
  },
  {
   "cell_type": "markdown",
   "metadata": {},
   "source": [
    "# Arrays: Left Rotation"
   ]
  },
  {
   "cell_type": "code",
   "execution_count": 6,
   "metadata": {},
   "outputs": [
    {
     "data": {
      "text/plain": [
       "[5, 1, 2, 3, 4]"
      ]
     },
     "execution_count": 6,
     "metadata": {},
     "output_type": "execute_result"
    }
   ],
   "source": [
    "#!/bin/python3\n",
    "\n",
    "import math\n",
    "import os\n",
    "import random\n",
    "import re\n",
    "import sys\n",
    "\n",
    "#\n",
    "# Complete the 'rotLeft' function below.\n",
    "#\n",
    "# The function is expected to return an INTEGER_ARRAY.\n",
    "# The function accepts following parameters:\n",
    "#  1. INTEGER_ARRAY a\n",
    "#  2. INTEGER d\n",
    "#\n",
    "\n",
    "def rotLeft(a, d):\n",
    "    for i in range(d):\n",
    "        num_popped = a.pop(0)\n",
    "        a.append(num_popped)\n",
    "    return a\n",
    "\n",
    "d = 4\n",
    "a = [1, 2, 3, 4, 5]\n",
    "    \n",
    "rotLeft(a, d)"
   ]
  },
  {
   "cell_type": "code",
   "execution_count": null,
   "metadata": {},
   "outputs": [],
   "source": []
  }
 ],
 "metadata": {
  "kernelspec": {
   "display_name": "Python 3.9.12 ('base')",
   "language": "python",
   "name": "python3"
  },
  "language_info": {
   "codemirror_mode": {
    "name": "ipython",
    "version": 3
   },
   "file_extension": ".py",
   "mimetype": "text/x-python",
   "name": "python",
   "nbconvert_exporter": "python",
   "pygments_lexer": "ipython3",
   "version": "3.9.12"
  },
  "orig_nbformat": 4,
  "vscode": {
   "interpreter": {
    "hash": "bdd4b7b683742405369341ac99f4cea49082b55be2202c0904c0042dcc1bb8dd"
   }
  }
 },
 "nbformat": 4,
 "nbformat_minor": 2
}
