{
 "cells": [
  {
   "cell_type": "markdown",
   "metadata": {},
   "source": [
    "# 2D Array - DS"
   ]
  },
  {
   "cell_type": "code",
   "execution_count": 5,
   "metadata": {},
   "outputs": [
    {
     "data": {
      "text/plain": [
       "-6"
      ]
     },
     "execution_count": 5,
     "metadata": {},
     "output_type": "execute_result"
    }
   ],
   "source": [
    "#!/bin/python3\n",
    "\n",
    "import math\n",
    "import os\n",
    "import random\n",
    "import re\n",
    "import sys\n",
    "\n",
    "#\n",
    "# Complete the 'hourglassSum' function below.\n",
    "#\n",
    "# The function is expected to return an INTEGER.\n",
    "# The function accepts 2D_INTEGER_ARRAY arr as parameter.\n",
    "#\n",
    "\n",
    "def hourglassSum(arr):\n",
    "    max_sum = -float('inf')\n",
    "    for i in range(4):\n",
    "        for j in range(4):\n",
    "            hg_sum = sum(arr[i][j:j+3]) + arr[i+1][j+1] + sum(arr[i+2][j:j+3])\n",
    "            max_sum = max(max_sum, hg_sum)\n",
    "    return max_sum\n",
    "\n",
    "# arr = [[1, 1, 1, 0, 0, 0], [0, 1, 0, 0, 0, 0], [1, 1, 1, 0, 0, 0], \n",
    "#        [0, 0, 2, 4, 4, 0], [0, 0, 0, 2, 0, 0], [0, 0, 1, 2, 4, 0]]\n",
    "\n",
    "str_list = [\"-1 -1 0 -9 -2 -2\",\n",
    "            \"-2 -1 -6 -8 -2 -5\",\n",
    "            \"-1 -1 -1 -2 -3 -4\",\n",
    "            \"-1 -9 -2 -4 -4 -5\",\n",
    "            \"-7 -3 -3 -2 -9 -9\",\n",
    "            \"-1 -3 -1 -2 -4 -5\"]\n",
    "\n",
    "arr = []\n",
    "for row in str_list:\n",
    "    arr.append(list(map(int, row.rstrip().split())))\n",
    "    \n",
    "# print(*arr, sep=\"\\n\")\n",
    "# print()\n",
    "\n",
    "hourglassSum(arr)"
   ]
  },
  {
   "cell_type": "markdown",
   "metadata": {},
   "source": [
    "# Arrays: Left Rotation"
   ]
  },
  {
   "cell_type": "code",
   "execution_count": 6,
   "metadata": {},
   "outputs": [
    {
     "data": {
      "text/plain": [
       "[5, 1, 2, 3, 4]"
      ]
     },
     "execution_count": 6,
     "metadata": {},
     "output_type": "execute_result"
    }
   ],
   "source": [
    "#!/bin/python3\n",
    "\n",
    "import math\n",
    "import os\n",
    "import random\n",
    "import re\n",
    "import sys\n",
    "\n",
    "#\n",
    "# Complete the 'rotLeft' function below.\n",
    "#\n",
    "# The function is expected to return an INTEGER_ARRAY.\n",
    "# The function accepts following parameters:\n",
    "#  1. INTEGER_ARRAY a\n",
    "#  2. INTEGER d\n",
    "#\n",
    "\n",
    "def rotLeft(a, d):\n",
    "    for i in range(d):\n",
    "        num_popped = a.pop(0)\n",
    "        a.append(num_popped)\n",
    "    return a\n",
    "\n",
    "d = 4\n",
    "a = [1, 2, 3, 4, 5]\n",
    "    \n",
    "rotLeft(a, d)"
   ]
  },
  {
   "cell_type": "markdown",
   "metadata": {},
   "source": [
    "# New Year Chaos"
   ]
  },
  {
   "cell_type": "code",
   "execution_count": 7,
   "metadata": {},
   "outputs": [
    {
     "name": "stdout",
     "output_type": "stream",
     "text": [
      "7\n"
     ]
    }
   ],
   "source": [
    "#!/bin/python3\n",
    "\n",
    "import math\n",
    "import os\n",
    "import random\n",
    "import re\n",
    "import sys\n",
    "\n",
    "#\n",
    "# Complete the 'minimumBribes' function below.\n",
    "#\n",
    "# The function accepts INTEGER_ARRAY q as parameter.\n",
    "#\n",
    "\n",
    "def minimumBribes(q):\n",
    "    bribe_count = 0\n",
    "    \n",
    "    for i in range(len(q)):\n",
    "        \n",
    "        if (q[i] - (i+1)) > 2:\n",
    "            print(\"Too chaotic\")\n",
    "            return\n",
    "        start = max(0, q[i]-2)\n",
    "        for j in range( start, i ):\n",
    "            if q[j] > q[i]:\n",
    "                bribe_count += 1\n",
    "    print(bribe_count)\n",
    "\n",
    "# q = [1, 2, 3, 5, 4, 6, 7, 8]\n",
    "# q = [4, 1, 2, 3]\n",
    "# q = [2, 1, 5, 3, 4]\n",
    "# q = [2, 5, 1, 3, 4]\n",
    "# q = [5, 1, 2, 3, 7, 8, 6, 4]\n",
    "# q = [1, 2, 3, 4, 5, 6, 7, 8]\n",
    "q = [1, 2, 5, 3, 7, 8, 6, 4]\n",
    "\n",
    "minimumBribes(q)"
   ]
  },
  {
   "cell_type": "markdown",
   "metadata": {},
   "source": [
    "# Minimum Swaps 2"
   ]
  },
  {
   "cell_type": "code",
   "execution_count": 14,
   "metadata": {},
   "outputs": [
    {
     "data": {
      "text/plain": [
       "3"
      ]
     },
     "execution_count": 14,
     "metadata": {},
     "output_type": "execute_result"
    }
   ],
   "source": [
    "#!/bin/python3\n",
    "\n",
    "import math\n",
    "import os\n",
    "import random\n",
    "import re\n",
    "import sys\n",
    "\n",
    "# Complete the minimumSwaps function below.\n",
    "def minimumSwaps(arr):\n",
    "    swap_count = 0\n",
    "\n",
    "    for i in range(len(arr)):\n",
    "        while arr[i] != i + 1:\n",
    "            temp = arr[i] - 1\n",
    "            arr[i], arr[temp] = arr[temp], arr[i]\n",
    "            swap_count += 1\n",
    "            # print(arr)\n",
    "    \n",
    "    return swap_count\n",
    "  \n",
    "# arr0 = [1, 5, 4, 3, 2]\n",
    "# arr1 = [7, 1, 3, 2, 4, 5, 6]\n",
    "# arr2 = [4, 3, 1, 2]\n",
    "# arr3 = [2, 3, 4, 1, 5]\n",
    "arr4 = [1, 3, 5, 2, 4, 6, 7]\n",
    "\n",
    "minimumSwaps(arr4)"
   ]
  }
 ],
 "metadata": {
  "kernelspec": {
   "display_name": "Python 3.9.12 ('base')",
   "language": "python",
   "name": "python3"
  },
  "language_info": {
   "codemirror_mode": {
    "name": "ipython",
    "version": 3
   },
   "file_extension": ".py",
   "mimetype": "text/x-python",
   "name": "python",
   "nbconvert_exporter": "python",
   "pygments_lexer": "ipython3",
   "version": "3.9.12"
  },
  "orig_nbformat": 4,
  "vscode": {
   "interpreter": {
    "hash": "bdd4b7b683742405369341ac99f4cea49082b55be2202c0904c0042dcc1bb8dd"
   }
  }
 },
 "nbformat": 4,
 "nbformat_minor": 2
}
