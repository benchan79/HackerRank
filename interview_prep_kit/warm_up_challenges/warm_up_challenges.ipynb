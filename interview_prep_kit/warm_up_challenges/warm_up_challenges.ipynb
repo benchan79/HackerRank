{
 "cells": [
  {
   "cell_type": "markdown",
   "metadata": {},
   "source": [
    "# Sales by Match"
   ]
  },
  {
   "cell_type": "code",
   "execution_count": 1,
   "metadata": {},
   "outputs": [
    {
     "data": {
      "text/plain": [
       "3"
      ]
     },
     "execution_count": 1,
     "metadata": {},
     "output_type": "execute_result"
    }
   ],
   "source": [
    "import math\n",
    "import os\n",
    "import random\n",
    "import re\n",
    "import sys\n",
    "\n",
    "#\n",
    "# Complete the 'sockMerchant' function below.\n",
    "#\n",
    "# The function is expected to return an INTEGER.\n",
    "# The function accepts following parameters:\n",
    "#  1. INTEGER n\n",
    "#  2. INTEGER_ARRAY ar\n",
    "#\n",
    "\n",
    "def sockMerchant(n, ar):\n",
    "    pair_list = []\n",
    "    pair_count = 0\n",
    "    ar_set = set(ar)\n",
    "    for sock in ar_set:\n",
    "        sock_count = ar.count(sock)\n",
    "        # print(f'{sock} count: {sock_count}')\n",
    "        if sock_count > 1:\n",
    "            if sock_count % 2 == 0:\n",
    "                pair_count += int(sock_count/2)\n",
    "            else:\n",
    "                pair_count += int(sock_count//2)\n",
    "    # print(pair_count)\n",
    "    return pair_count\n",
    "\n",
    "# n = int(input().strip())\n",
    "# ar = list(map(int, input().rstrip().split()))\n",
    "# result = sockMerchant(n, ar)\n",
    "# print(result)\n",
    "\n",
    "n1 = 7\n",
    "ar1 = [1,2,1,2,1,3,2]\n",
    "\n",
    "n2 = 9\n",
    "ar2 = [10, 20, 20, 10, 10, 30, 50, 10, 20]\n",
    "\n",
    "sockMerchant(n2, ar2)"
   ]
  },
  {
   "cell_type": "code",
   "execution_count": 2,
   "metadata": {},
   "outputs": [
    {
     "name": "stdout",
     "output_type": "stream",
     "text": [
      "3\n"
     ]
    }
   ],
   "source": []
  },
  {
   "cell_type": "code",
   "execution_count": null,
   "metadata": {},
   "outputs": [],
   "source": []
  }
 ],
 "metadata": {
  "kernelspec": {
   "display_name": "Python 3.9.12 ('base')",
   "language": "python",
   "name": "python3"
  },
  "language_info": {
   "codemirror_mode": {
    "name": "ipython",
    "version": 3
   },
   "file_extension": ".py",
   "mimetype": "text/x-python",
   "name": "python",
   "nbconvert_exporter": "python",
   "pygments_lexer": "ipython3",
   "version": "3.9.12"
  },
  "orig_nbformat": 4,
  "vscode": {
   "interpreter": {
    "hash": "bdd4b7b683742405369341ac99f4cea49082b55be2202c0904c0042dcc1bb8dd"
   }
  }
 },
 "nbformat": 4,
 "nbformat_minor": 2
}
