{
 "cells": [
  {
   "cell_type": "markdown",
   "metadata": {},
   "source": [
    "# Sales by Match"
   ]
  },
  {
   "cell_type": "code",
   "execution_count": 1,
   "metadata": {},
   "outputs": [
    {
     "data": {
      "text/plain": [
       "3"
      ]
     },
     "execution_count": 1,
     "metadata": {},
     "output_type": "execute_result"
    }
   ],
   "source": [
    "import math\n",
    "import os\n",
    "import random\n",
    "import re\n",
    "import sys\n",
    "\n",
    "#\n",
    "# Complete the 'sockMerchant' function below.\n",
    "#\n",
    "# The function is expected to return an INTEGER.\n",
    "# The function accepts following parameters:\n",
    "#  1. INTEGER n\n",
    "#  2. INTEGER_ARRAY ar\n",
    "#\n",
    "\n",
    "def sockMerchant(n, ar):\n",
    "    pair_list = []\n",
    "    pair_count = 0\n",
    "    ar_set = set(ar)\n",
    "    for sock in ar_set:\n",
    "        sock_count = ar.count(sock)\n",
    "        # print(f'{sock} count: {sock_count}')\n",
    "        if sock_count > 1:\n",
    "            if sock_count % 2 == 0:\n",
    "                pair_count += int(sock_count/2)\n",
    "            else:\n",
    "                pair_count += int(sock_count//2)\n",
    "    # print(pair_count)\n",
    "    return pair_count\n",
    "\n",
    "# n = int(input().strip())\n",
    "# ar = list(map(int, input().rstrip().split()))\n",
    "# result = sockMerchant(n, ar)\n",
    "# print(result)\n",
    "\n",
    "n1 = 7\n",
    "ar1 = [1,2,1,2,1,3,2]\n",
    "\n",
    "n2 = 9\n",
    "ar2 = [10, 20, 20, 10, 10, 30, 50, 10, 20]\n",
    "\n",
    "sockMerchant(n2, ar2)"
   ]
  },
  {
   "cell_type": "markdown",
   "metadata": {},
   "source": [
    "# Counting Valleys"
   ]
  },
  {
   "cell_type": "code",
   "execution_count": 3,
   "metadata": {},
   "outputs": [
    {
     "data": {
      "text/plain": [
       "2"
      ]
     },
     "execution_count": 3,
     "metadata": {},
     "output_type": "execute_result"
    }
   ],
   "source": [
    "import math\n",
    "import os\n",
    "import random\n",
    "import re\n",
    "import sys\n",
    "\n",
    "#\n",
    "# Complete the 'countingValleys' function below.\n",
    "#\n",
    "# The function is expected to return an INTEGER.\n",
    "# The function accepts following parameters:\n",
    "#  1. INTEGER steps\n",
    "#  2. STRING path\n",
    "#\n",
    "\n",
    "def countingValleys(steps, path):\n",
    "    sea_level = 0\n",
    "    valley_count = 0\n",
    "\n",
    "    for step in path:\n",
    "        if step == 'U':\n",
    "            sea_level += 1\n",
    "        else:\n",
    "            sea_level -= 1\n",
    "        # print(sea_level)\n",
    "        if step == 'U' and sea_level == 0:\n",
    "            valley_count += 1\n",
    "    \n",
    "    return valley_count\n",
    "    \n",
    "# steps = int(input().strip())\n",
    "# path = input()\n",
    "    \n",
    "steps1 = 8\n",
    "path1 = 'UDDDUDUU'\n",
    "\n",
    "steps2 = 12\n",
    "path2 = 'DDUUDDUDUUUD'\n",
    "\n",
    "countingValleys(steps2, path2)"
   ]
  },
  {
   "cell_type": "markdown",
   "metadata": {},
   "source": [
    "# Jumping on the Clouds"
   ]
  },
  {
   "cell_type": "code",
   "execution_count": 4,
   "metadata": {},
   "outputs": [
    {
     "data": {
      "text/plain": [
       "1"
      ]
     },
     "execution_count": 4,
     "metadata": {},
     "output_type": "execute_result"
    }
   ],
   "source": [
    "#!/bin/python3\n",
    "\n",
    "import math\n",
    "import os\n",
    "import random\n",
    "import re\n",
    "import sys\n",
    "\n",
    "#\n",
    "# Complete the 'jumpingOnClouds' function below.\n",
    "#\n",
    "# The function is expected to return an INTEGER.\n",
    "# The function accepts INTEGER_ARRAY c as parameter.\n",
    "#\n",
    "\n",
    "def jumpingOnClouds(c):\n",
    "    current_cloud = 0\n",
    "    jump_count = 0\n",
    "    for idx in range(len(c)):\n",
    "        if len(c) == 2:\n",
    "            return 1            \n",
    "        elif c[current_cloud + 2] == 0:\n",
    "            current_cloud += 2\n",
    "            jump_count += 1\n",
    "            # print(f'current_cloud: {current_cloud}, jump_count: {jump_count}')\n",
    "            if current_cloud == len(c) - 1:\n",
    "                return jump_count\n",
    "            elif current_cloud == len(c) - 2:\n",
    "                return jump_count + 1\n",
    "        else:\n",
    "            current_cloud += 1\n",
    "            jump_count += 1\n",
    "            # print(f'current_cloud: {current_cloud}, jump_count: {jump_count}')\n",
    "            if current_cloud == len(c) - 1:\n",
    "                return jump_count\n",
    "\n",
    "# n = int(input().strip())\n",
    "# c = list(map(int, input().rstrip().split()))\n",
    "# result = jumpingOnClouds(c)\n",
    "\n",
    "c1 = [0, 0, 1, 0, 0, 1, 0]\n",
    "c2 = [0, 0, 0, 0, 1, 0]\n",
    "c3 = [0, 0, 0, 1, 0, 0]\n",
    "c4 = [0, 0]\n",
    "\n",
    "jumpingOnClouds(c4)"
   ]
  }
 ],
 "metadata": {
  "kernelspec": {
   "display_name": "Python 3.9.12 ('base')",
   "language": "python",
   "name": "python3"
  },
  "language_info": {
   "codemirror_mode": {
    "name": "ipython",
    "version": 3
   },
   "file_extension": ".py",
   "mimetype": "text/x-python",
   "name": "python",
   "nbconvert_exporter": "python",
   "pygments_lexer": "ipython3",
   "version": "3.9.12"
  },
  "orig_nbformat": 4,
  "vscode": {
   "interpreter": {
    "hash": "bdd4b7b683742405369341ac99f4cea49082b55be2202c0904c0042dcc1bb8dd"
   }
  }
 },
 "nbformat": 4,
 "nbformat_minor": 2
}
