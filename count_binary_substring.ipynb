{
 "cells": [
  {
   "cell_type": "markdown",
   "metadata": {},
   "source": [
    "# Count Binary Substrings"
   ]
  },
  {
   "cell_type": "code",
   "execution_count": 1,
   "metadata": {},
   "outputs": [
    {
     "name": "stdout",
     "output_type": "stream",
     "text": [
      "9\n"
     ]
    }
   ],
   "source": [
    "# Within string s, we can break it up into smaller substrings\n",
    "# Each substring is a group of consecutive 1s or 0s\n",
    "# '1110000' has a substring of '111' and a substring of '0000'\n",
    "# Because there are three 1s and four 0s, we can only make three possible substrings with the same number of 0s and 1s\n",
    "# We start at the 'boundary' between the two substrings and expand out\n",
    "# Like so: '10', '1100', '111000'\n",
    "# This is the same as: min(3, 4) = 3\n",
    "\n",
    "s = '1110011100011'\n",
    "def countBinarySubstring(s):\n",
    "    # Create counters for storing the number of consecutive 1s and 0s\n",
    "    # current_count starts at 1 because we start checking from the 2nd position\n",
    "    # This means the first position is already 'counted', so current_count = 1\n",
    "    prev_count = 0\n",
    "    current_count = 1\n",
    "\n",
    "    # Create a running minimum count of valid substrings after comparing the previous and current counters\n",
    "    running_min = 0\n",
    "\n",
    "    for i in range(1, len(s)):\n",
    "        # checks if the current and previous number are the same\n",
    "        # and increase the current_count if they are\n",
    "        if s[i] == s[i-1]:\n",
    "            current_count += 1\n",
    "        \n",
    "        else:\n",
    "            running_min += min(prev_count, current_count)\n",
    "            \n",
    "            prev_count = current_count\n",
    "            \n",
    "            current_count = 1\n",
    "\n",
    "    running_min += min(prev_count, current_count)\n",
    "\n",
    "    print(running_min)\n",
    "\n",
    "countBinarySubstring(s)"
   ]
  }
 ],
 "metadata": {
  "kernelspec": {
   "display_name": "Python 3.9.12 ('base')",
   "language": "python",
   "name": "python3"
  },
  "language_info": {
   "name": "python",
   "version": "3.9.12"
  },
  "orig_nbformat": 4,
  "vscode": {
   "interpreter": {
    "hash": "bdd4b7b683742405369341ac99f4cea49082b55be2202c0904c0042dcc1bb8dd"
   }
  }
 },
 "nbformat": 4,
 "nbformat_minor": 2
}
